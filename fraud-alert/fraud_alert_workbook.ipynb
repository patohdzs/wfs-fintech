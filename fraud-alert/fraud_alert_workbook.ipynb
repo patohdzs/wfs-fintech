{
 "cells": [
  {
   "cell_type": "markdown",
   "metadata": {
    "id": "8hAXcHkODX2k"
   },
   "source": [
    "# Fraud Alert! Detecting Fraudulent Cedit Card Transactions using Machine Learning in Python\n",
    "### **SOLUTIONS**\n",
    "---"
   ]
  },
  {
   "cell_type": "markdown",
   "metadata": {
    "id": "dTqPcJlw3MRw"
   },
   "source": [
    "## External dependencies - DO NOT MODIFY"
   ]
  },
  {
   "cell_type": "code",
   "execution_count": 1,
   "metadata": {},
   "outputs": [],
   "source": [
    "dataset_url = 'https://raw.githubusercontent.com/patohdzs/wfs-fintech/main/fraud-alert/creditcard_reduced.csv'"
   ]
  },
  {
   "cell_type": "markdown",
   "metadata": {
    "id": "gsk89YQM2rZh"
   },
   "source": [
    "## Notebook Format"
   ]
  },
  {
   "cell_type": "markdown",
   "metadata": {
    "id": "DHRwFXcf25SO"
   },
   "source": [
    "\n",
    "*   The notebook is divided into various sections, separated by headers in a larger font size.\n",
    "*   Each section will have text describing what is being done, hopefully serving both as useful instruction of what to code but also which modelling stage we are incorporating and why.\n",
    "---\n",
    "* **Instructions on the tasks will appear separated and in bold font at the end of each piece of text, and the corresponding solution should be written in a cell directly below.**\n",
    "\n",
    "*   **Sometimes code will already be written in this cell either as an example or to carry out tasks that go beyond the scope of this workshop. In these cases, you should add your code in between the lines commented `#### ADD YOUR CODE HERE ####` and `##############`.**\n",
    "\n",
    "*   **Exercise: try printing out \"Hello World\" in the cell below.**\n"
   ]
  },
  {
   "cell_type": "markdown",
   "metadata": {
    "id": "wIWeNsCbFTaG"
   },
   "source": [
    "## Step 1: Importing external modules"
   ]
  },
  {
   "cell_type": "code",
   "execution_count": 2,
   "metadata": {},
   "outputs": [],
   "source": [
    "# Importing NumPy and Pandas libraries - matrix and vector manipulation\n",
    "import numpy as np\n",
    "import pandas as pd\n",
    "\n",
    "# Importing Matplotlib and Seaborn - graphics and visualization\n",
    "from matplotlib import pyplot as plt\n",
    "import seaborn as sns\n",
    "\n",
    "# Importing Scikit Learn modules - Machine Learning\n",
    "from sklearn.model_selection import train_test_split\n",
    "from sklearn.model_selection import cross_validate\n",
    "from sklearn.model_selection import cross_val_predict\n",
    "from sklearn.model_selection import GridSearchCV\n",
    "from sklearn.model_selection import RandomizedSearchCV\n",
    "from sklearn.neighbors import KNeighborsClassifier\n",
    "from sklearn.linear_model import LogisticRegression\n",
    "from sklearn.svm import SVC\n",
    "from sklearn.ensemble import RandomForestClassifier\n",
    "from sklearn.metrics import accuracy_score\n",
    "from sklearn.metrics import classification_report\n",
    "from sklearn.metrics import roc_curve\n",
    "\n",
    "# Warning disabling\n",
    "from warnings import simplefilter\n",
    "from sklearn.exceptions import ConvergenceWarning"
   ]
  },
  {
   "cell_type": "markdown",
   "metadata": {
    "id": "74FWT_RJHIoF"
   },
   "source": [
    "## Step 2: Download dataset"
   ]
  },
  {
   "cell_type": "markdown",
   "metadata": {
    "id": "XgYVwe54oKpR"
   },
   "source": [
    "\n",
    "\n",
    "*   The first thing we need to do before we build our ML model is to download our datasets.\n",
    "*   We can do this quite easily if they are in `.csv` format files (most spreadsheet type files can be converted into `.csv`)\n",
    "*   We download files using the `.read_csv(filepath)` function from the Pandas library:\n",
    "  *   Takes in the filepath as an argument.\n",
    "  *   Outputs the dataset as a Pandas DataFrame, which is what we usually want for ML.\n",
    "* The above has been done to download our training dataset in the cell below.\n",
    "\n",
    "---\n",
    "\n",
    "*   **The filepath for our dataset is already saved under the variable** `dataset_url` **. Try downloading this dataset in the cell below and assign it to variable** `data` **.**\n",
    "\n"
   ]
  },
  {
   "cell_type": "code",
   "execution_count": 3,
   "metadata": {},
   "outputs": [
    {
     "data": {
      "text/html": [
       "<div>\n",
       "<style scoped>\n",
       "    .dataframe tbody tr th:only-of-type {\n",
       "        vertical-align: middle;\n",
       "    }\n",
       "\n",
       "    .dataframe tbody tr th {\n",
       "        vertical-align: top;\n",
       "    }\n",
       "\n",
       "    .dataframe thead th {\n",
       "        text-align: right;\n",
       "    }\n",
       "</style>\n",
       "<table border=\"1\" class=\"dataframe\">\n",
       "  <thead>\n",
       "    <tr style=\"text-align: right;\">\n",
       "      <th></th>\n",
       "      <th>Time</th>\n",
       "      <th>V1</th>\n",
       "      <th>V2</th>\n",
       "      <th>V3</th>\n",
       "      <th>V4</th>\n",
       "      <th>V5</th>\n",
       "      <th>V6</th>\n",
       "      <th>V7</th>\n",
       "      <th>V8</th>\n",
       "      <th>V9</th>\n",
       "      <th>...</th>\n",
       "      <th>V21</th>\n",
       "      <th>V22</th>\n",
       "      <th>V23</th>\n",
       "      <th>V24</th>\n",
       "      <th>V25</th>\n",
       "      <th>V26</th>\n",
       "      <th>V27</th>\n",
       "      <th>V28</th>\n",
       "      <th>Amount</th>\n",
       "      <th>Class</th>\n",
       "    </tr>\n",
       "  </thead>\n",
       "  <tbody>\n",
       "    <tr>\n",
       "      <th>0</th>\n",
       "      <td>0</td>\n",
       "      <td>-1.359807</td>\n",
       "      <td>-0.072781</td>\n",
       "      <td>2.536347</td>\n",
       "      <td>1.378155</td>\n",
       "      <td>-0.338321</td>\n",
       "      <td>0.462388</td>\n",
       "      <td>0.239599</td>\n",
       "      <td>0.098698</td>\n",
       "      <td>0.363787</td>\n",
       "      <td>...</td>\n",
       "      <td>-0.018307</td>\n",
       "      <td>0.277838</td>\n",
       "      <td>-0.110474</td>\n",
       "      <td>0.066928</td>\n",
       "      <td>0.128539</td>\n",
       "      <td>-0.189115</td>\n",
       "      <td>0.133558</td>\n",
       "      <td>-0.021053</td>\n",
       "      <td>149.62</td>\n",
       "      <td>0</td>\n",
       "    </tr>\n",
       "    <tr>\n",
       "      <th>1</th>\n",
       "      <td>9</td>\n",
       "      <td>-0.338262</td>\n",
       "      <td>1.119593</td>\n",
       "      <td>1.044367</td>\n",
       "      <td>-0.222187</td>\n",
       "      <td>0.499361</td>\n",
       "      <td>-0.246761</td>\n",
       "      <td>0.651583</td>\n",
       "      <td>0.069539</td>\n",
       "      <td>-0.736727</td>\n",
       "      <td>...</td>\n",
       "      <td>-0.246914</td>\n",
       "      <td>-0.633753</td>\n",
       "      <td>-0.120794</td>\n",
       "      <td>-0.385050</td>\n",
       "      <td>-0.069733</td>\n",
       "      <td>0.094199</td>\n",
       "      <td>0.246219</td>\n",
       "      <td>0.083076</td>\n",
       "      <td>3.68</td>\n",
       "      <td>0</td>\n",
       "    </tr>\n",
       "    <tr>\n",
       "      <th>2</th>\n",
       "      <td>10</td>\n",
       "      <td>1.249999</td>\n",
       "      <td>-1.221637</td>\n",
       "      <td>0.383930</td>\n",
       "      <td>-1.234899</td>\n",
       "      <td>-1.485419</td>\n",
       "      <td>-0.753230</td>\n",
       "      <td>-0.689405</td>\n",
       "      <td>-0.227487</td>\n",
       "      <td>-2.094011</td>\n",
       "      <td>...</td>\n",
       "      <td>-0.231809</td>\n",
       "      <td>-0.483285</td>\n",
       "      <td>0.084668</td>\n",
       "      <td>0.392831</td>\n",
       "      <td>0.161135</td>\n",
       "      <td>-0.354990</td>\n",
       "      <td>0.026416</td>\n",
       "      <td>0.042422</td>\n",
       "      <td>121.50</td>\n",
       "      <td>0</td>\n",
       "    </tr>\n",
       "    <tr>\n",
       "      <th>3</th>\n",
       "      <td>18</td>\n",
       "      <td>1.166616</td>\n",
       "      <td>0.502120</td>\n",
       "      <td>-0.067300</td>\n",
       "      <td>2.261569</td>\n",
       "      <td>0.428804</td>\n",
       "      <td>0.089474</td>\n",
       "      <td>0.241147</td>\n",
       "      <td>0.138082</td>\n",
       "      <td>-0.989162</td>\n",
       "      <td>...</td>\n",
       "      <td>0.018702</td>\n",
       "      <td>-0.061972</td>\n",
       "      <td>-0.103855</td>\n",
       "      <td>-0.370415</td>\n",
       "      <td>0.603200</td>\n",
       "      <td>0.108556</td>\n",
       "      <td>-0.040521</td>\n",
       "      <td>-0.011418</td>\n",
       "      <td>2.28</td>\n",
       "      <td>0</td>\n",
       "    </tr>\n",
       "    <tr>\n",
       "      <th>4</th>\n",
       "      <td>33</td>\n",
       "      <td>-0.607877</td>\n",
       "      <td>1.031345</td>\n",
       "      <td>1.740450</td>\n",
       "      <td>1.232106</td>\n",
       "      <td>0.418592</td>\n",
       "      <td>0.119168</td>\n",
       "      <td>0.850893</td>\n",
       "      <td>-0.176267</td>\n",
       "      <td>-0.243501</td>\n",
       "      <td>...</td>\n",
       "      <td>-0.087329</td>\n",
       "      <td>0.258315</td>\n",
       "      <td>-0.264775</td>\n",
       "      <td>0.118282</td>\n",
       "      <td>0.173508</td>\n",
       "      <td>-0.217041</td>\n",
       "      <td>0.094312</td>\n",
       "      <td>-0.033041</td>\n",
       "      <td>14.80</td>\n",
       "      <td>0</td>\n",
       "    </tr>\n",
       "  </tbody>\n",
       "</table>\n",
       "<p>5 rows × 31 columns</p>\n",
       "</div>"
      ],
      "text/plain": [
       "   Time        V1        V2        V3        V4        V5        V6        V7  \\\n",
       "0     0 -1.359807 -0.072781  2.536347  1.378155 -0.338321  0.462388  0.239599   \n",
       "1     9 -0.338262  1.119593  1.044367 -0.222187  0.499361 -0.246761  0.651583   \n",
       "2    10  1.249999 -1.221637  0.383930 -1.234899 -1.485419 -0.753230 -0.689405   \n",
       "3    18  1.166616  0.502120 -0.067300  2.261569  0.428804  0.089474  0.241147   \n",
       "4    33 -0.607877  1.031345  1.740450  1.232106  0.418592  0.119168  0.850893   \n",
       "\n",
       "         V8        V9  ...       V21       V22       V23       V24       V25  \\\n",
       "0  0.098698  0.363787  ... -0.018307  0.277838 -0.110474  0.066928  0.128539   \n",
       "1  0.069539 -0.736727  ... -0.246914 -0.633753 -0.120794 -0.385050 -0.069733   \n",
       "2 -0.227487 -2.094011  ... -0.231809 -0.483285  0.084668  0.392831  0.161135   \n",
       "3  0.138082 -0.989162  ...  0.018702 -0.061972 -0.103855 -0.370415  0.603200   \n",
       "4 -0.176267 -0.243501  ... -0.087329  0.258315 -0.264775  0.118282  0.173508   \n",
       "\n",
       "        V26       V27       V28  Amount  Class  \n",
       "0 -0.189115  0.133558 -0.021053  149.62      0  \n",
       "1  0.094199  0.246219  0.083076    3.68      0  \n",
       "2 -0.354990  0.026416  0.042422  121.50      0  \n",
       "3  0.108556 -0.040521 -0.011418    2.28      0  \n",
       "4 -0.217041  0.094312 -0.033041   14.80      0  \n",
       "\n",
       "[5 rows x 31 columns]"
      ]
     },
     "execution_count": 3,
     "metadata": {},
     "output_type": "execute_result"
    }
   ],
   "source": [
    "# Downloading \n",
    "data = pd.read_csv(dataset_url)\n",
    "data.head()\n"
   ]
  },
  {
   "cell_type": "code",
   "execution_count": 4,
   "metadata": {},
   "outputs": [
    {
     "name": "stdout",
     "output_type": "stream",
     "text": [
      "<class 'pandas.core.frame.DataFrame'>\n",
      "RangeIndex: 47467 entries, 0 to 47466\n",
      "Data columns (total 31 columns):\n",
      " #   Column  Non-Null Count  Dtype  \n",
      "---  ------  --------------  -----  \n",
      " 0   Time    47467 non-null  int64  \n",
      " 1   V1      47467 non-null  float64\n",
      " 2   V2      47467 non-null  float64\n",
      " 3   V3      47467 non-null  float64\n",
      " 4   V4      47467 non-null  float64\n",
      " 5   V5      47467 non-null  float64\n",
      " 6   V6      47467 non-null  float64\n",
      " 7   V7      47467 non-null  float64\n",
      " 8   V8      47467 non-null  float64\n",
      " 9   V9      47467 non-null  float64\n",
      " 10  V10     47467 non-null  float64\n",
      " 11  V11     47467 non-null  float64\n",
      " 12  V12     47467 non-null  float64\n",
      " 13  V13     47467 non-null  float64\n",
      " 14  V14     47467 non-null  float64\n",
      " 15  V15     47467 non-null  float64\n",
      " 16  V16     47467 non-null  float64\n",
      " 17  V17     47467 non-null  float64\n",
      " 18  V18     47467 non-null  float64\n",
      " 19  V19     47467 non-null  float64\n",
      " 20  V20     47467 non-null  float64\n",
      " 21  V21     47467 non-null  float64\n",
      " 22  V22     47467 non-null  float64\n",
      " 23  V23     47467 non-null  float64\n",
      " 24  V24     47467 non-null  float64\n",
      " 25  V25     47467 non-null  float64\n",
      " 26  V26     47467 non-null  float64\n",
      " 27  V27     47467 non-null  float64\n",
      " 28  V28     47467 non-null  float64\n",
      " 29  Amount  47467 non-null  float64\n",
      " 30  Class   47467 non-null  int64  \n",
      "dtypes: float64(29), int64(2)\n",
      "memory usage: 11.2 MB\n"
     ]
    }
   ],
   "source": [
    "data.info()"
   ]
  },
  {
   "cell_type": "markdown",
   "metadata": {
    "id": "SSliztUyHd0C"
   },
   "source": [
    "## Step 3: Create our feature matrix and target vector"
   ]
  },
  {
   "cell_type": "code",
   "execution_count": 5,
   "metadata": {},
   "outputs": [],
   "source": [
    "# Creating feature matrix\n",
    "X = data.drop(columns = 'Class')\n",
    "\n",
    "# Creating target vector\n",
    "y = data['Class']"
   ]
  },
  {
   "cell_type": "markdown",
   "metadata": {
    "id": "Fb5InSouIKdv"
   },
   "source": [
    "## Step 4: Separate training and testing sample"
   ]
  },
  {
   "cell_type": "code",
   "execution_count": 6,
   "metadata": {},
   "outputs": [],
   "source": [
    "#### ADD CODE HERE ####\n",
    "# Split dataset into training and validation sample\n",
    "X_train, X_test, y_train, y_test = train_test_split(X,y, test_size=0.3, random_state=1)\n",
    "#######################"
   ]
  },
  {
   "cell_type": "markdown",
   "metadata": {
    "id": "Fb5InSouIKdv"
   },
   "source": [
    "## Step 5: Construct and fit our models"
   ]
  },
  {
   "cell_type": "code",
   "execution_count": 7,
   "metadata": {},
   "outputs": [
    {
     "name": "stdout",
     "output_type": "stream",
     "text": [
      "Running Logistic regression model...\n",
      "Finished running.\n",
      "\n",
      "Running SVM model...\n",
      "Finished running.\n",
      "\n",
      "Running KNN model...\n",
      "Finished running.\n",
      "\n",
      "Running Random Forest model...\n",
      "Finished running.\n",
      "\n"
     ]
    },
    {
     "data": {
      "text/html": [
       "<div>\n",
       "<style scoped>\n",
       "    .dataframe tbody tr th:only-of-type {\n",
       "        vertical-align: middle;\n",
       "    }\n",
       "\n",
       "    .dataframe tbody tr th {\n",
       "        vertical-align: top;\n",
       "    }\n",
       "\n",
       "    .dataframe thead th {\n",
       "        text-align: right;\n",
       "    }\n",
       "</style>\n",
       "<table border=\"1\" class=\"dataframe\">\n",
       "  <thead>\n",
       "    <tr style=\"text-align: right;\">\n",
       "      <th></th>\n",
       "      <th>Accuracy (%)</th>\n",
       "    </tr>\n",
       "    <tr>\n",
       "      <th>Model</th>\n",
       "      <th></th>\n",
       "    </tr>\n",
       "  </thead>\n",
       "  <tbody>\n",
       "    <tr>\n",
       "      <th>Random Forest</th>\n",
       "      <td>99.928</td>\n",
       "    </tr>\n",
       "    <tr>\n",
       "      <th>Logistic regression</th>\n",
       "      <td>99.880</td>\n",
       "    </tr>\n",
       "    <tr>\n",
       "      <th>SVM</th>\n",
       "      <td>99.837</td>\n",
       "    </tr>\n",
       "    <tr>\n",
       "      <th>KNN</th>\n",
       "      <td>99.837</td>\n",
       "    </tr>\n",
       "  </tbody>\n",
       "</table>\n",
       "</div>"
      ],
      "text/plain": [
       "                     Accuracy (%)\n",
       "Model                            \n",
       "Random Forest              99.928\n",
       "Logistic regression        99.880\n",
       "SVM                        99.837\n",
       "KNN                        99.837"
      ]
     },
     "execution_count": 7,
     "metadata": {},
     "output_type": "execute_result"
    }
   ],
   "source": [
    "# Disabling Convergence and User warnings\n",
    "simplefilter(\"ignore\", category=ConvergenceWarning)\n",
    "simplefilter(\"ignore\", category=UserWarning)\n",
    "\n",
    "#### ADD CODE HERE ####\n",
    "models = {'Logistic regression': LogisticRegression(random_state=1), \n",
    "          'SVM': SVC(),\n",
    "          'KNN': KNeighborsClassifier(),\n",
    "          'Random Forest':RandomForestClassifier(random_state=1)\n",
    "         }\n",
    "\n",
    "cv_scores = []\n",
    "\n",
    "\n",
    "for m in models:\n",
    "    print('Running '+ m + ' model...')\n",
    "    cv = cross_validate(models[m], X_train, y_train, cv=5)\n",
    "    cv_scores.append(cv['test_score'].mean())\n",
    "    print('Finished running.')\n",
    "    print('')\n",
    "\n",
    "########################\n",
    "\n",
    "\n",
    "# Creating table that displays the name, average accuracy score, and average training time\n",
    "scores = pd.DataFrame(data={'Model': list(models.keys()),\n",
    "                            'Accuracy (%)': cv_scores})\n",
    "\n",
    "scores['Accuracy (%)'] = round(scores['Accuracy (%)']*100, 3)\n",
    "scores = scores.set_index('Model').sort_values(by='Accuracy (%)', ascending=False)\n",
    "scores"
   ]
  },
  {
   "cell_type": "markdown",
   "metadata": {
    "id": "Fb5InSouIKdv"
   },
   "source": [
    "## Step 5: Classification report and class imbalance"
   ]
  },
  {
   "attachments": {
    "Precisionrecall.svg.png": {
     "image/png": "[encoded data removed]"
    }
   },
   "cell_type": "markdown",
   "metadata": {},
   "source": [
    "![Precisionrecall.svg.png](attachment:Precisionrecall.svg.png)"
   ]
  },
  {
   "cell_type": "code",
   "execution_count": 8,
   "metadata": {},
   "outputs": [
    {
     "name": "stdout",
     "output_type": "stream",
     "text": [
      "Running Logistic regression model...\n",
      "              precision    recall  f1-score   support\n",
      "\n",
      "           0       1.00      1.00      1.00     33172\n",
      "           1       0.64      0.59      0.62        54\n",
      "\n",
      "    accuracy                           1.00     33226\n",
      "   macro avg       0.82      0.80      0.81     33226\n",
      "weighted avg       1.00      1.00      1.00     33226\n",
      "\n",
      "Finished running.\n",
      "\n",
      "Running SVM model...\n",
      "              precision    recall  f1-score   support\n",
      "\n",
      "           0       1.00      1.00      1.00     33172\n",
      "           1       0.00      0.00      0.00        54\n",
      "\n",
      "    accuracy                           1.00     33226\n",
      "   macro avg       0.50      0.50      0.50     33226\n",
      "weighted avg       1.00      1.00      1.00     33226\n",
      "\n",
      "Finished running.\n",
      "\n",
      "Running KNN model...\n",
      "              precision    recall  f1-score   support\n",
      "\n",
      "           0       1.00      1.00      1.00     33172\n",
      "           1       0.00      0.00      0.00        54\n",
      "\n",
      "    accuracy                           1.00     33226\n",
      "   macro avg       0.50      0.50      0.50     33226\n",
      "weighted avg       1.00      1.00      1.00     33226\n",
      "\n",
      "Finished running.\n",
      "\n",
      "Running Random Forest model...\n",
      "              precision    recall  f1-score   support\n",
      "\n",
      "           0       1.00      1.00      1.00     33172\n",
      "           1       0.88      0.65      0.74        54\n",
      "\n",
      "    accuracy                           1.00     33226\n",
      "   macro avg       0.94      0.82      0.87     33226\n",
      "weighted avg       1.00      1.00      1.00     33226\n",
      "\n",
      "Finished running.\n",
      "\n"
     ]
    }
   ],
   "source": [
    "# Disabling Convergence and User warnings\n",
    "simplefilter(\"ignore\", category=ConvergenceWarning)\n",
    "simplefilter(\"ignore\", category=UserWarning)\n",
    "\n",
    "for m in models:\n",
    "    print('Running '+ m + ' model...')\n",
    "    y_pred = cross_val_predict(models[m], X_train, y_train, cv=5)\n",
    "    print(classification_report(y_train, y_pred))\n",
    "    print(confusion_matrix(y_train,y_pred))\n",
    "    print('Finished running.')\n",
    "    print('')"
   ]
  }
 ],
 "metadata": {
  "kernelspec": {
   "display_name": "Python 3",
   "language": "python",
   "name": "python3"
  },
  "language_info": {
   "codemirror_mode": {
    "name": "ipython",
    "version": 3
   },
   "file_extension": ".py",
   "mimetype": "text/x-python",
   "name": "python",
   "nbconvert_exporter": "python",
   "pygments_lexer": "ipython3",
   "version": "3.7.6"
  }
 },
 "nbformat": 4,
 "nbformat_minor": 4
}
